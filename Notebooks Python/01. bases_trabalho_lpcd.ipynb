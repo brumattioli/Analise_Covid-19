{
 "cells": [
  {
   "cell_type": "markdown",
   "id": "034e61a3-eeef-4ad9-a8c8-1e2d20d377ae",
   "metadata": {
    "id": "034e61a3-eeef-4ad9-a8c8-1e2d20d377ae"
   },
   "source": [
    "---\n",
    "**Trabalho:** trabalho consistirá na análise dos casos da COVID19 em 5 cidades brasileiras\n",
    "\n",
    "**Disciplina**: Linguagens de Programação para Ciência de Dados\n",
    "\n",
    "**Discentes**: Bruna Mattioli de Oliveira e Gabriel Andrade Varga\n",
    "\n",
    "**Descrição:** Criação do Banco de Dados no Postgre SQL e imputação dos dados oriundos de um arquivo CSV diretamente no Banco de Dados\n",
    "\n",
    "---"
   ]
  },
  {
   "cell_type": "markdown",
   "id": "adfa43af-45c4-47ec-803d-bc121bbd3c1f",
   "metadata": {
    "id": "adfa43af-45c4-47ec-803d-bc121bbd3c1f"
   },
   "source": [
    "---\n",
    "***Pacotes necessários***\n",
    "\n",
    "---"
   ]
  },
  {
   "cell_type": "code",
   "execution_count": 1,
   "id": "05dfc4e7-39c1-45bf-8b2e-eada5088ea8c",
   "metadata": {
    "id": "05dfc4e7-39c1-45bf-8b2e-eada5088ea8c"
   },
   "outputs": [],
   "source": [
    "import psycopg2 as ps\n",
    "import pandas.io.sql as sqlio\n",
    "from datetime import datetime\n",
    "from matplotlib import pyplot as plt\n",
    "import csv\n",
    "import pandas as pd\n",
    "import numpy as np"
   ]
  },
  {
   "cell_type": "markdown",
   "id": "84e6e192-cace-4033-8c81-a34f62b0e42e",
   "metadata": {
    "id": "84e6e192-cace-4033-8c81-a34f62b0e42e"
   },
   "source": [
    "---\n",
    "***Importação do banco de dados***\n",
    "\n",
    "---"
   ]
  },
  {
   "cell_type": "markdown",
   "id": "9f4e2239-b6eb-4d2f-803a-2e60b10dff09",
   "metadata": {
    "id": "9f4e2239-b6eb-4d2f-803a-2e60b10dff09"
   },
   "source": [
    "Importação do conjunto de dados completo dos casos de COVID-19 no Brasil"
   ]
  },
  {
   "cell_type": "code",
   "execution_count": 2,
   "id": "cdc1952d-9bb7-408e-bdbe-8a49f2d0dfff",
   "metadata": {
    "id": "cdc1952d-9bb7-408e-bdbe-8a49f2d0dfff"
   },
   "outputs": [],
   "source": [
    "covid_casos = pd.read_csv(\"G:/My Drive/Especialização/Disciplinas/Módulo 2/Linguagens de Programação para Ciência de Dados/Trabalho LPCD/Bases/caso_full.csv\")"
   ]
  },
  {
   "cell_type": "markdown",
   "id": "56baf3b3-e8fe-4802-8cb7-82596098f1b7",
   "metadata": {
    "id": "56baf3b3-e8fe-4802-8cb7-82596098f1b7"
   },
   "source": [
    "Filtro das 5 cidades necessárias para a análise dos dados: Atibaia, Osasco, São Paulo, Bragança Paulista e Franco da Rocha"
   ]
  },
  {
   "cell_type": "code",
   "execution_count": 5,
   "id": "1e202e3f-c304-4b53-961e-440fa0a9e553",
   "metadata": {
    "id": "1e202e3f-c304-4b53-961e-440fa0a9e553"
   },
   "outputs": [],
   "source": [
    "covid_casos_filtro_cidade = covid_casos[(covid_casos['city'] == 'Atibaia') | (covid_casos['city'] == 'Osasco') | (covid_casos['city'] == 'Guarulhos') | (covid_casos['city'] == 'Bragança Paulista') | (covid_casos['city'] == 'Franco da Rocha')]"
   ]
  },
  {
   "cell_type": "code",
   "execution_count": 6,
   "id": "67b2b7cc-3668-43c0-97b4-30fba588cc93",
   "metadata": {
    "id": "67b2b7cc-3668-43c0-97b4-30fba588cc93",
    "outputId": "9a1f512f-2ead-4c5e-8459-b211ec2a0027"
   },
   "outputs": [
    {
     "data": {
      "text/html": [
       "<div>\n",
       "<style scoped>\n",
       "    .dataframe tbody tr th:only-of-type {\n",
       "        vertical-align: middle;\n",
       "    }\n",
       "\n",
       "    .dataframe tbody tr th {\n",
       "        vertical-align: top;\n",
       "    }\n",
       "\n",
       "    .dataframe thead th {\n",
       "        text-align: right;\n",
       "    }\n",
       "</style>\n",
       "<table border=\"1\" class=\"dataframe\">\n",
       "  <thead>\n",
       "    <tr style=\"text-align: right;\">\n",
       "      <th></th>\n",
       "      <th>city</th>\n",
       "      <th>city_ibge_code</th>\n",
       "      <th>date</th>\n",
       "      <th>epidemiological_week</th>\n",
       "      <th>estimated_population</th>\n",
       "      <th>estimated_population_2019</th>\n",
       "      <th>is_last</th>\n",
       "      <th>is_repeated</th>\n",
       "      <th>last_available_confirmed</th>\n",
       "      <th>last_available_confirmed_per_100k_inhabitants</th>\n",
       "      <th>last_available_date</th>\n",
       "      <th>last_available_death_rate</th>\n",
       "      <th>last_available_deaths</th>\n",
       "      <th>order_for_place</th>\n",
       "      <th>place_type</th>\n",
       "      <th>state</th>\n",
       "      <th>new_confirmed</th>\n",
       "      <th>new_deaths</th>\n",
       "    </tr>\n",
       "  </thead>\n",
       "  <tbody>\n",
       "    <tr>\n",
       "      <th>1981046</th>\n",
       "      <td>Guarulhos</td>\n",
       "      <td>3518800.0</td>\n",
       "      <td>2020-03-17</td>\n",
       "      <td>202012</td>\n",
       "      <td>1392121.0</td>\n",
       "      <td>1379182.0</td>\n",
       "      <td>False</td>\n",
       "      <td>False</td>\n",
       "      <td>1</td>\n",
       "      <td>0.07183</td>\n",
       "      <td>2020-03-17</td>\n",
       "      <td>0.0</td>\n",
       "      <td>0</td>\n",
       "      <td>1</td>\n",
       "      <td>city</td>\n",
       "      <td>SP</td>\n",
       "      <td>1</td>\n",
       "      <td>0</td>\n",
       "    </tr>\n",
       "    <tr>\n",
       "      <th>1981059</th>\n",
       "      <td>Guarulhos</td>\n",
       "      <td>3518800.0</td>\n",
       "      <td>2020-03-18</td>\n",
       "      <td>202012</td>\n",
       "      <td>1392121.0</td>\n",
       "      <td>1379182.0</td>\n",
       "      <td>False</td>\n",
       "      <td>False</td>\n",
       "      <td>1</td>\n",
       "      <td>0.07183</td>\n",
       "      <td>2020-03-18</td>\n",
       "      <td>0.0</td>\n",
       "      <td>0</td>\n",
       "      <td>2</td>\n",
       "      <td>city</td>\n",
       "      <td>SP</td>\n",
       "      <td>0</td>\n",
       "      <td>0</td>\n",
       "    </tr>\n",
       "    <tr>\n",
       "      <th>1981062</th>\n",
       "      <td>Osasco</td>\n",
       "      <td>3534401.0</td>\n",
       "      <td>2020-03-18</td>\n",
       "      <td>202012</td>\n",
       "      <td>699944.0</td>\n",
       "      <td>698418.0</td>\n",
       "      <td>False</td>\n",
       "      <td>False</td>\n",
       "      <td>1</td>\n",
       "      <td>0.14287</td>\n",
       "      <td>2020-03-18</td>\n",
       "      <td>0.0</td>\n",
       "      <td>0</td>\n",
       "      <td>1</td>\n",
       "      <td>city</td>\n",
       "      <td>SP</td>\n",
       "      <td>1</td>\n",
       "      <td>0</td>\n",
       "    </tr>\n",
       "    <tr>\n",
       "      <th>1981076</th>\n",
       "      <td>Guarulhos</td>\n",
       "      <td>3518800.0</td>\n",
       "      <td>2020-03-19</td>\n",
       "      <td>202012</td>\n",
       "      <td>1392121.0</td>\n",
       "      <td>1379182.0</td>\n",
       "      <td>False</td>\n",
       "      <td>False</td>\n",
       "      <td>1</td>\n",
       "      <td>0.07183</td>\n",
       "      <td>2020-03-19</td>\n",
       "      <td>0.0</td>\n",
       "      <td>0</td>\n",
       "      <td>3</td>\n",
       "      <td>city</td>\n",
       "      <td>SP</td>\n",
       "      <td>0</td>\n",
       "      <td>0</td>\n",
       "    </tr>\n",
       "    <tr>\n",
       "      <th>1981080</th>\n",
       "      <td>Osasco</td>\n",
       "      <td>3534401.0</td>\n",
       "      <td>2020-03-19</td>\n",
       "      <td>202012</td>\n",
       "      <td>699944.0</td>\n",
       "      <td>698418.0</td>\n",
       "      <td>False</td>\n",
       "      <td>True</td>\n",
       "      <td>1</td>\n",
       "      <td>0.14287</td>\n",
       "      <td>2020-03-18</td>\n",
       "      <td>0.0</td>\n",
       "      <td>0</td>\n",
       "      <td>2</td>\n",
       "      <td>city</td>\n",
       "      <td>SP</td>\n",
       "      <td>0</td>\n",
       "      <td>0</td>\n",
       "    </tr>\n",
       "  </tbody>\n",
       "</table>\n",
       "</div>"
      ],
      "text/plain": [
       "              city  city_ibge_code        date  epidemiological_week  \\\n",
       "1981046  Guarulhos       3518800.0  2020-03-17                202012   \n",
       "1981059  Guarulhos       3518800.0  2020-03-18                202012   \n",
       "1981062     Osasco       3534401.0  2020-03-18                202012   \n",
       "1981076  Guarulhos       3518800.0  2020-03-19                202012   \n",
       "1981080     Osasco       3534401.0  2020-03-19                202012   \n",
       "\n",
       "         estimated_population  estimated_population_2019  is_last  \\\n",
       "1981046             1392121.0                  1379182.0    False   \n",
       "1981059             1392121.0                  1379182.0    False   \n",
       "1981062              699944.0                   698418.0    False   \n",
       "1981076             1392121.0                  1379182.0    False   \n",
       "1981080              699944.0                   698418.0    False   \n",
       "\n",
       "         is_repeated  last_available_confirmed  \\\n",
       "1981046        False                         1   \n",
       "1981059        False                         1   \n",
       "1981062        False                         1   \n",
       "1981076        False                         1   \n",
       "1981080         True                         1   \n",
       "\n",
       "         last_available_confirmed_per_100k_inhabitants last_available_date  \\\n",
       "1981046                                        0.07183          2020-03-17   \n",
       "1981059                                        0.07183          2020-03-18   \n",
       "1981062                                        0.14287          2020-03-18   \n",
       "1981076                                        0.07183          2020-03-19   \n",
       "1981080                                        0.14287          2020-03-18   \n",
       "\n",
       "         last_available_death_rate  last_available_deaths  order_for_place  \\\n",
       "1981046                        0.0                      0                1   \n",
       "1981059                        0.0                      0                2   \n",
       "1981062                        0.0                      0                1   \n",
       "1981076                        0.0                      0                3   \n",
       "1981080                        0.0                      0                2   \n",
       "\n",
       "        place_type state  new_confirmed  new_deaths  \n",
       "1981046       city    SP              1           0  \n",
       "1981059       city    SP              0           0  \n",
       "1981062       city    SP              1           0  \n",
       "1981076       city    SP              0           0  \n",
       "1981080       city    SP              0           0  "
      ]
     },
     "execution_count": 6,
     "metadata": {},
     "output_type": "execute_result"
    }
   ],
   "source": [
    "covid_casos_filtro_cidade.head(5)"
   ]
  },
  {
   "cell_type": "code",
   "execution_count": 7,
   "id": "e40ac534-b8c8-4bc9-8423-87ad0c1c1805",
   "metadata": {
    "id": "e40ac534-b8c8-4bc9-8423-87ad0c1c1805"
   },
   "outputs": [],
   "source": [
    "covid_casos_filtro = covid_casos_filtro_cidade[(covid_casos_filtro_cidade['is_repeated'] == False)]"
   ]
  },
  {
   "cell_type": "markdown",
   "id": "a7a28246-4ee7-4fec-a7e8-9c4fa5ea3fe9",
   "metadata": {
    "id": "a7a28246-4ee7-4fec-a7e8-9c4fa5ea3fe9"
   },
   "source": [
    "---\n",
    "***Criação da conexão no BD (Postgre SQL)***\n",
    "\n",
    "---"
   ]
  },
  {
   "cell_type": "markdown",
   "id": "9143e799-f00e-4061-a25d-61085bfb9744",
   "metadata": {
    "id": "9143e799-f00e-4061-a25d-61085bfb9744"
   },
   "source": [
    "Conexão no postgre com o banco de dados Grupo_Beta"
   ]
  },
  {
   "cell_type": "code",
   "execution_count": 8,
   "id": "212351ec-c53e-4cb5-b375-c2bb73c911d2",
   "metadata": {
    "id": "212351ec-c53e-4cb5-b375-c2bb73c911d2"
   },
   "outputs": [],
   "source": [
    "conn = ps.connect(\"dbname=grupo_beta user=postgres password=vagan9ch\")\n",
    "cur = conn.cursor()"
   ]
  },
  {
   "cell_type": "markdown",
   "id": "257a4913-6380-4c4b-ac62-c80a5e522aa1",
   "metadata": {
    "id": "257a4913-6380-4c4b-ac62-c80a5e522aa1"
   },
   "source": [
    "---\n",
    "***Criação das tabelas no BD com base no Modelo Relacional***\n",
    "\n",
    "---"
   ]
  },
  {
   "cell_type": "markdown",
   "id": "51b94293-fb9e-4305-bccb-7ee937ec785c",
   "metadata": {
    "id": "51b94293-fb9e-4305-bccb-7ee937ec785c"
   },
   "source": [
    "Criação das tabelas modeladas no Postgre"
   ]
  },
  {
   "cell_type": "code",
   "execution_count": 9,
   "id": "9d40f66a-f67c-423c-981d-85bb22a7cd95",
   "metadata": {
    "id": "9d40f66a-f67c-423c-981d-85bb22a7cd95"
   },
   "outputs": [],
   "source": [
    "cur.execute(\"CREATE TABLE semana_epidemologica (id_sem_epid SERIAL PRIMARY KEY, semana INTEGER);\")\n",
    "cur.execute(\"CREATE TABLE data_dado (id_data_dado SERIAL PRIMARY KEY, data_dado DATE, id_sem_epid INTEGER);\")\n",
    "cur.execute(\"CREATE TABLE casos (id_casos SERIAL PRIMARY KEY, novos_casos INTEGER, id_cidade INTEGER, id_data_dado INTEGER);\")\n",
    "cur.execute(\"CREATE TABLE obitos (id_obitos SERIAL PRIMARY KEY, novos_obitos INTEGER, id_cidade INTEGER, id_data_dado INTEGER);\")\n",
    "cur.execute(\"CREATE TABLE populacao (id_populacao SERIAL PRIMARY KEY, pop_estimada_2019 INTEGER, pop_estimada VARCHAR, id_cidade INTEGER);\")\n",
    "cur.execute(\"CREATE TABLE cidade (id_cidade SERIAL PRIMARY KEY, nome_cidade VARCHAR, cod_cidade_ibge INTEGER);\")"
   ]
  },
  {
   "cell_type": "markdown",
   "id": "9e6735e0-2897-430f-bed3-3e085d764602",
   "metadata": {
    "id": "9e6735e0-2897-430f-bed3-3e085d764602"
   },
   "source": [
    "Atribuição das chaves estrangeiras"
   ]
  },
  {
   "cell_type": "code",
   "execution_count": 10,
   "id": "1b0bf6fa-8c0c-4b2b-a775-f8dd822ae9ec",
   "metadata": {
    "id": "1b0bf6fa-8c0c-4b2b-a775-f8dd822ae9ec"
   },
   "outputs": [],
   "source": [
    "cur.execute(\"ALTER TABLE data_dado ADD FOREIGN KEY (id_sem_epid) REFERENCES semana_epidemologica (id_sem_epid);\")\n",
    "cur.execute(\"ALTER TABLE populacao ADD FOREIGN KEY (id_cidade) REFERENCES cidade (id_cidade);\")\n",
    "cur.execute(\"ALTER TABLE casos ADD FOREIGN KEY (id_cidade) REFERENCES cidade (id_cidade);\")\n",
    "cur.execute(\"ALTER TABLE casos ADD FOREIGN KEY (id_data_dado) REFERENCES data_dado (id_data_dado);\")\n",
    "cur.execute(\"ALTER TABLE obitos ADD FOREIGN KEY (id_cidade) REFERENCES cidade (id_cidade);\")\n",
    "cur.execute(\"ALTER TABLE obitos ADD FOREIGN KEY (id_data_dado) REFERENCES data_dado (id_data_dado);\")"
   ]
  },
  {
   "cell_type": "markdown",
   "id": "d039a57d-ffb4-40cd-a950-87f3b30902f7",
   "metadata": {
    "id": "d039a57d-ffb4-40cd-a950-87f3b30902f7"
   },
   "source": [
    "Executar as alterações no BD"
   ]
  },
  {
   "cell_type": "code",
   "execution_count": null,
   "id": "1d5d5731-a35a-4502-a89a-defe298e33da",
   "metadata": {
    "id": "1d5d5731-a35a-4502-a89a-defe298e33da"
   },
   "outputs": [],
   "source": [
    "conn.commit()"
   ]
  },
  {
   "cell_type": "markdown",
   "id": "7d8a55a7-e82c-494f-ba31-5856c37f4847",
   "metadata": {
    "id": "7d8a55a7-e82c-494f-ba31-5856c37f4847"
   },
   "source": [
    "---\n",
    "***Imputando os dados da tabela / entidade semana epidemológica no BD***\n",
    "\n",
    "---"
   ]
  },
  {
   "cell_type": "markdown",
   "id": "096475ab-5f85-4471-845c-53bf238268f1",
   "metadata": {
    "id": "096475ab-5f85-4471-845c-53bf238268f1"
   },
   "source": [
    "* Criação da tabela apenas com os dados necessários"
   ]
  },
  {
   "cell_type": "code",
   "execution_count": 11,
   "id": "12ccf3d8-652d-4eb4-bd31-8dd059991a03",
   "metadata": {
    "id": "12ccf3d8-652d-4eb4-bd31-8dd059991a03"
   },
   "outputs": [],
   "source": [
    "semana_epidemologica = covid_casos_filtro[['epidemiological_week']]"
   ]
  },
  {
   "cell_type": "markdown",
   "id": "c268d9ee-a669-4b3e-847a-db5b7d82422c",
   "metadata": {
    "id": "c268d9ee-a669-4b3e-847a-db5b7d82422c"
   },
   "source": [
    "* Retirada dos valores duplicados. Não é necessário ter os dados repetidos no BD."
   ]
  },
  {
   "cell_type": "code",
   "execution_count": 12,
   "id": "4e79d08d-dd26-4f91-bedf-2f09bba4d6eb",
   "metadata": {
    "id": "4e79d08d-dd26-4f91-bedf-2f09bba4d6eb"
   },
   "outputs": [],
   "source": [
    "semana_epidemologica2 = semana_epidemologica.drop_duplicates(subset = 'epidemiological_week')"
   ]
  },
  {
   "cell_type": "markdown",
   "id": "ed8f4538-a00f-4235-9e3b-cc92ced1b998",
   "metadata": {
    "id": "ed8f4538-a00f-4235-9e3b-cc92ced1b998"
   },
   "source": [
    "* Criação de uma lista contendo os dados da coluna epidemiological_week"
   ]
  },
  {
   "cell_type": "code",
   "execution_count": 13,
   "id": "230e8282-7508-4e0d-a61f-b7e6c583726c",
   "metadata": {
    "id": "230e8282-7508-4e0d-a61f-b7e6c583726c",
    "outputId": "2a7b674a-a90f-4da8-973e-da2d50993f16"
   },
   "outputs": [
    {
     "name": "stdout",
     "output_type": "stream",
     "text": [
      "[202012, 202013, 202014, 202015, 202016, 202017, 202018, 202019, 202020, 202021, 202022, 202023, 202024, 202025, 202026, 202027, 202028, 202029, 202030, 202031, 202032, 202033, 202034, 202035, 202036, 202037, 202038, 202039, 202040, 202041, 202042, 202043, 202044, 202045, 202046, 202047, 202048, 202049, 202050, 202051, 202052, 202053, 202101, 202102, 202103, 202104, 202105, 202106, 202107, 202108, 202109, 202110, 202111, 202112, 202113, 202114, 202115, 202116, 202117, 202118, 202119, 202120, 202121, 202122, 202123, 202124, 202125]\n"
     ]
    }
   ],
   "source": [
    "epid_week = semana_epidemologica2['epidemiological_week'].tolist()\n",
    "\n",
    "print(epid_week)"
   ]
  },
  {
   "cell_type": "markdown",
   "id": "dd22fe4f-5660-4806-b230-c06a4a186482",
   "metadata": {
    "id": "dd22fe4f-5660-4806-b230-c06a4a186482"
   },
   "source": [
    "* Criação de uma lista de dicionários contendo os dados da coluna epidemiological_week e com a chave semana_epid"
   ]
  },
  {
   "cell_type": "markdown",
   "id": "e6e555b3-1354-496c-b592-145cd302cc96",
   "metadata": {
    "id": "e6e555b3-1354-496c-b592-145cd302cc96"
   },
   "source": [
    "Esta lista de dicionários é necessária para poder executar o comando executemany do pacote psycopg2"
   ]
  },
  {
   "cell_type": "code",
   "execution_count": 14,
   "id": "e68b87a7-13eb-4d9c-afd9-ac4269b29c32",
   "metadata": {
    "id": "e68b87a7-13eb-4d9c-afd9-ac4269b29c32"
   },
   "outputs": [],
   "source": [
    "semana_dicionario = {}\n",
    "semana_lista = []\n",
    "\n",
    "for i in range(0, len(epid_week)):\n",
    "    \n",
    "    semana_dicionario[i] = dict({'semana_epid':epid_week[i]})\n",
    "    \n",
    "    semana_lista.append(semana_dicionario[i])"
   ]
  },
  {
   "cell_type": "markdown",
   "id": "d0a50303-bf76-44e7-82b1-607b7921878d",
   "metadata": {
    "id": "d0a50303-bf76-44e7-82b1-607b7921878d"
   },
   "source": [
    "* Imputação dos dados na tabela do BD semana_epidemologica"
   ]
  },
  {
   "cell_type": "code",
   "execution_count": 15,
   "id": "cb19687a-f119-4876-9377-192b91d4d116",
   "metadata": {
    "id": "cb19687a-f119-4876-9377-192b91d4d116"
   },
   "outputs": [],
   "source": [
    "cur.executemany(\"\"\"INSERT INTO semana_epidemologica (semana) VALUES (%(semana_epid)s);\"\"\", semana_lista)\n",
    "    \n",
    "conn.commit()"
   ]
  },
  {
   "cell_type": "markdown",
   "id": "df98c434-3b5a-449d-9c78-a7b501002317",
   "metadata": {
    "id": "df98c434-3b5a-449d-9c78-a7b501002317"
   },
   "source": [
    "---\n",
    "***Imputando os dados da tabela / entidade cidade no BD***\n",
    "\n",
    "---"
   ]
  },
  {
   "cell_type": "markdown",
   "id": "f6eef779-0f7d-4e8a-9293-f0179f973c7d",
   "metadata": {
    "id": "f6eef779-0f7d-4e8a-9293-f0179f973c7d"
   },
   "source": [
    "* Criação da tabela apenas com os dados necessários"
   ]
  },
  {
   "cell_type": "code",
   "execution_count": 16,
   "id": "dd80da83-8bc7-4512-ac21-453aa258b616",
   "metadata": {
    "id": "dd80da83-8bc7-4512-ac21-453aa258b616"
   },
   "outputs": [],
   "source": [
    "cidade = covid_casos_filtro[['city', 'city_ibge_code']]"
   ]
  },
  {
   "cell_type": "markdown",
   "id": "3609e8aa-bb4c-4dd3-baa7-ed5ae1d98551",
   "metadata": {
    "id": "3609e8aa-bb4c-4dd3-baa7-ed5ae1d98551"
   },
   "source": [
    "* Retirada dos valores duplicados. Não é necessário ter os dados repetidos no BD."
   ]
  },
  {
   "cell_type": "code",
   "execution_count": 17,
   "id": "b5006022-e2f0-444d-ac65-497df3f86164",
   "metadata": {
    "id": "b5006022-e2f0-444d-ac65-497df3f86164"
   },
   "outputs": [],
   "source": [
    "cidade2 = cidade.drop_duplicates(subset = 'city')"
   ]
  },
  {
   "cell_type": "markdown",
   "id": "397f0730-64fa-424c-8f5a-ca7b90c54613",
   "metadata": {
    "id": "397f0730-64fa-424c-8f5a-ca7b90c54613"
   },
   "source": [
    "* Criação de uma lista contendo os dados da coluna epidemiological_week"
   ]
  },
  {
   "cell_type": "code",
   "execution_count": 18,
   "id": "2aef8e09-f804-42d1-8954-22cbdd24a24a",
   "metadata": {
    "id": "2aef8e09-f804-42d1-8954-22cbdd24a24a",
    "outputId": "50927af7-cc55-450f-8166-dcef1ae1d430"
   },
   "outputs": [
    {
     "name": "stdout",
     "output_type": "stream",
     "text": [
      "['Guarulhos', 'Osasco', 'Franco da Rocha', 'Atibaia', 'Bragança Paulista']\n",
      "[3518800.0, 3534401.0, 3516408.0, 3504107.0, 3507605.0]\n"
     ]
    }
   ],
   "source": [
    "nome_cidade = cidade2['city'].tolist()\n",
    "\n",
    "print(nome_cidade)\n",
    "\n",
    "cod_cidade = cidade2['city_ibge_code'].tolist()\n",
    "\n",
    "print(cod_cidade)"
   ]
  },
  {
   "cell_type": "markdown",
   "id": "f2e02505-a94e-452b-b132-26cb42b3c8c4",
   "metadata": {
    "id": "f2e02505-a94e-452b-b132-26cb42b3c8c4"
   },
   "source": [
    "* Criação de uma lista de dicionários contendo os dados da coluna city / city_ibge_code e com a chave cod_cidade / nm_cidade"
   ]
  },
  {
   "cell_type": "markdown",
   "id": "fc13e7b8-bb8d-4167-b794-46bcd0476e46",
   "metadata": {
    "id": "fc13e7b8-bb8d-4167-b794-46bcd0476e46"
   },
   "source": [
    "Esta lista de dicionários é necessária para poder executar o comando executemany do pacote psycopg2"
   ]
  },
  {
   "cell_type": "code",
   "execution_count": 19,
   "id": "ee953e07-254c-4d63-bf15-0f33ce4ae993",
   "metadata": {
    "id": "ee953e07-254c-4d63-bf15-0f33ce4ae993"
   },
   "outputs": [],
   "source": [
    "cod_cidade_dicionario = {}\n",
    "cod_cidade_lista = []\n",
    "\n",
    "for i in range(0, len(cod_cidade)):\n",
    "    \n",
    "    cod_cidade_dicionario[i] = dict({'cod_cidade':cod_cidade[i],'nm_cidade':nome_cidade[i]})\n",
    "    \n",
    "    cod_cidade_lista.append(cod_cidade_dicionario[i])"
   ]
  },
  {
   "cell_type": "markdown",
   "id": "708f3737-947a-4007-a2bc-db797945ff34",
   "metadata": {
    "id": "708f3737-947a-4007-a2bc-db797945ff34"
   },
   "source": [
    "* Imputação dos dados na tabela do BD cidade"
   ]
  },
  {
   "cell_type": "code",
   "execution_count": 20,
   "id": "b7a3f83a-59a7-4c0d-aba1-17465c71e41b",
   "metadata": {
    "id": "b7a3f83a-59a7-4c0d-aba1-17465c71e41b"
   },
   "outputs": [],
   "source": [
    "cur.executemany(\"\"\"INSERT INTO cidade (nome_cidade, cod_cidade_ibge) VALUES (%(nm_cidade)s, (%(cod_cidade)s));\"\"\", cod_cidade_lista)\n",
    "    \n",
    "conn.commit()"
   ]
  },
  {
   "cell_type": "markdown",
   "id": "4acae294-97b8-4cb6-a5af-de87c1e4605d",
   "metadata": {
    "id": "4acae294-97b8-4cb6-a5af-de87c1e4605d"
   },
   "source": [
    "---\n",
    "***Imputando os dados da tabela / entidade data dado no BD***\n",
    "\n",
    "---"
   ]
  },
  {
   "cell_type": "markdown",
   "id": "63932636-75c3-4feb-8238-ca2384f370fd",
   "metadata": {
    "id": "63932636-75c3-4feb-8238-ca2384f370fd"
   },
   "source": [
    "* Criação da tabela apenas com os dados necessários"
   ]
  },
  {
   "cell_type": "code",
   "execution_count": 21,
   "id": "58a5a337-feaf-4163-bcb9-f04de99f2f90",
   "metadata": {
    "id": "58a5a337-feaf-4163-bcb9-f04de99f2f90"
   },
   "outputs": [],
   "source": [
    "data_dados = covid_casos_filtro[['last_available_date', 'epidemiological_week']]"
   ]
  },
  {
   "cell_type": "markdown",
   "id": "366e4d21-108a-4954-a30c-0c9f2298b614",
   "metadata": {
    "id": "366e4d21-108a-4954-a30c-0c9f2298b614"
   },
   "source": [
    "* Retirada dos valores duplicados. Não é necessário ter os dados repetidos no BD."
   ]
  },
  {
   "cell_type": "code",
   "execution_count": 22,
   "id": "54580017-f410-4341-adcf-cf8f40470ab7",
   "metadata": {
    "id": "54580017-f410-4341-adcf-cf8f40470ab7"
   },
   "outputs": [],
   "source": [
    "data_dados2 = data_dados.drop_duplicates(subset = 'last_available_date')"
   ]
  },
  {
   "cell_type": "markdown",
   "id": "45db48e4-e48d-4497-9d48-b66b7eceef38",
   "metadata": {
    "id": "45db48e4-e48d-4497-9d48-b66b7eceef38"
   },
   "source": [
    "* Recuperação do conteúdo da base semana_epidemologica que foi imputada anteriormente no BD. Ela será utilizada para a captura da chave estrangeira id_sem_epid"
   ]
  },
  {
   "cell_type": "code",
   "execution_count": 23,
   "id": "a84dfe46-569d-483f-b245-e380910b4b62",
   "metadata": {
    "id": "a84dfe46-569d-483f-b245-e380910b4b62"
   },
   "outputs": [],
   "source": [
    "sql = \"SELECT * FROM semana_epidemologica;\"\n",
    "semana_epidemologica = sqlio.read_sql_query(sql, conn)"
   ]
  },
  {
   "cell_type": "code",
   "execution_count": 24,
   "id": "2a76ef14-236e-42c3-9534-ab7c31d3f461",
   "metadata": {
    "id": "2a76ef14-236e-42c3-9534-ab7c31d3f461",
    "outputId": "1b21664a-6776-47b4-d454-4986b2f00b01"
   },
   "outputs": [
    {
     "name": "stdout",
     "output_type": "stream",
     "text": [
      "    id_sem_epid  semana\n",
      "0             1  202012\n",
      "1             2  202013\n",
      "2             3  202014\n",
      "3             4  202015\n",
      "4             5  202016\n",
      "..          ...     ...\n",
      "62           63  202121\n",
      "63           64  202122\n",
      "64           65  202123\n",
      "65           66  202124\n",
      "66           67  202125\n",
      "\n",
      "[67 rows x 2 columns]\n"
     ]
    }
   ],
   "source": [
    "print(semana_epidemologica)"
   ]
  },
  {
   "cell_type": "markdown",
   "id": "efd58764-9d0b-4d16-9517-6e6537aa03fd",
   "metadata": {
    "id": "efd58764-9d0b-4d16-9517-6e6537aa03fd"
   },
   "source": [
    "* Cruzamento entre a base data_dados2 e a base semana_epidemologica para a captura da chave estrangeira id_sem_epid"
   ]
  },
  {
   "cell_type": "code",
   "execution_count": 25,
   "id": "ccb43f0e-b95f-4130-97d8-89eb6f74ea9d",
   "metadata": {
    "id": "ccb43f0e-b95f-4130-97d8-89eb6f74ea9d"
   },
   "outputs": [],
   "source": [
    "data_dados3 = pd.merge(data_dados2, semana_epidemologica, right_on='semana', left_on='epidemiological_week', how='left')"
   ]
  },
  {
   "cell_type": "code",
   "execution_count": 26,
   "id": "8781b2fd-0201-4278-b306-98d2ce817159",
   "metadata": {
    "id": "8781b2fd-0201-4278-b306-98d2ce817159",
    "outputId": "e0e2485c-7a72-48fe-b90e-9a3ef64f86a7"
   },
   "outputs": [
    {
     "name": "stdout",
     "output_type": "stream",
     "text": [
      "    last_available_date  epidemiological_week  id_sem_epid  semana\n",
      "0            2020-03-17                202012            1  202012\n",
      "1            2020-03-18                202012            1  202012\n",
      "2            2020-03-19                202012            1  202012\n",
      "3            2020-03-20                202012            1  202012\n",
      "4            2020-03-25                202013            2  202013\n",
      "..                  ...                   ...          ...     ...\n",
      "432          2021-06-19                202124           66  202124\n",
      "433          2021-06-20                202125           67  202125\n",
      "434          2021-06-22                202125           67  202125\n",
      "435          2021-06-23                202125           67  202125\n",
      "436          2021-06-24                202125           67  202125\n",
      "\n",
      "[437 rows x 4 columns]\n"
     ]
    }
   ],
   "source": [
    "print(data_dados3)"
   ]
  },
  {
   "cell_type": "markdown",
   "id": "3a2398d4-8612-4254-8307-fa0ece6a181f",
   "metadata": {
    "id": "3a2398d4-8612-4254-8307-fa0ece6a181f"
   },
   "source": [
    "* Criação de uma lista contendo os dados da last_available_date"
   ]
  },
  {
   "cell_type": "code",
   "execution_count": 27,
   "id": "8829360f-df03-4276-9c3c-924110ab7204",
   "metadata": {
    "id": "8829360f-df03-4276-9c3c-924110ab7204"
   },
   "outputs": [],
   "source": [
    "last_available_date = data_dados3['last_available_date'].tolist()"
   ]
  },
  {
   "cell_type": "markdown",
   "id": "e95d7e20-36f0-41df-b994-988190c32317",
   "metadata": {
    "id": "e95d7e20-36f0-41df-b994-988190c32317"
   },
   "source": [
    "* Criação de uma lista contendo os dados da coluna id_sem_epid"
   ]
  },
  {
   "cell_type": "code",
   "execution_count": 28,
   "id": "de767d15-94ad-4dd5-9277-a3e2e73eeb83",
   "metadata": {
    "id": "de767d15-94ad-4dd5-9277-a3e2e73eeb83"
   },
   "outputs": [],
   "source": [
    "id_sem_epid = data_dados3['id_sem_epid'].tolist()"
   ]
  },
  {
   "cell_type": "markdown",
   "id": "58c8ed86-bf3f-47ac-8ff6-4a87e273d5ce",
   "metadata": {
    "id": "58c8ed86-bf3f-47ac-8ff6-4a87e273d5ce"
   },
   "source": [
    "* Criação de uma lista de dicionários contendo os dados da coluna last_available_date / id_sem_epid e com a chave data_dado / id_sem_epid"
   ]
  },
  {
   "cell_type": "markdown",
   "id": "4ecd871c-c692-4079-8977-2bc42a4089cc",
   "metadata": {
    "id": "4ecd871c-c692-4079-8977-2bc42a4089cc"
   },
   "source": [
    "Esta lista de dicionários é necessária para poder executar o comando executemany do pacote psycopg2"
   ]
  },
  {
   "cell_type": "code",
   "execution_count": 29,
   "id": "b878fd36-e29e-4904-b4ce-e2b1100ceaba",
   "metadata": {
    "id": "b878fd36-e29e-4904-b4ce-e2b1100ceaba"
   },
   "outputs": [],
   "source": [
    "data_dados_dicionario = {}\n",
    "data_dados_lista = []\n",
    "\n",
    "for i in range(0, len(last_available_date)):\n",
    "    \n",
    "    data_dados_dicionario[i] = dict({'data_dado':last_available_date[i],'id_sem_epid':id_sem_epid[i]})\n",
    "    \n",
    "    data_dados_lista.append(data_dados_dicionario[i])"
   ]
  },
  {
   "cell_type": "markdown",
   "id": "25ffb74c-aaab-4691-ad68-87c2c7285657",
   "metadata": {
    "id": "25ffb74c-aaab-4691-ad68-87c2c7285657"
   },
   "source": [
    "* Imputação dos dados na tabela do BD data_dado"
   ]
  },
  {
   "cell_type": "code",
   "execution_count": 30,
   "id": "07659df8-0524-40f5-bc71-d768b2ef696f",
   "metadata": {
    "id": "07659df8-0524-40f5-bc71-d768b2ef696f"
   },
   "outputs": [],
   "source": [
    "cur.executemany(\"\"\"INSERT INTO data_dado (data_dado, id_sem_epid) VALUES (%(data_dado)s, (%(id_sem_epid)s));\"\"\", data_dados_lista)\n",
    "    \n",
    "conn.commit()"
   ]
  },
  {
   "cell_type": "markdown",
   "id": "cd41e936-5b9f-4f3d-b806-0d84ed01cb47",
   "metadata": {
    "id": "cd41e936-5b9f-4f3d-b806-0d84ed01cb47"
   },
   "source": [
    "---\n",
    "***Imputando os dados da tabela / entidade população no BD***\n",
    "\n",
    "---"
   ]
  },
  {
   "cell_type": "markdown",
   "id": "91c69f7c-7fee-4ebc-bd1b-03fc416b64c1",
   "metadata": {
    "id": "91c69f7c-7fee-4ebc-bd1b-03fc416b64c1"
   },
   "source": [
    "* Criação da tabela apenas com os dados necessários"
   ]
  },
  {
   "cell_type": "code",
   "execution_count": 31,
   "id": "034fdace-629e-4807-bea7-77d7271c0c98",
   "metadata": {
    "id": "034fdace-629e-4807-bea7-77d7271c0c98"
   },
   "outputs": [],
   "source": [
    "populacao = covid_casos_filtro[['estimated_population_2019', 'estimated_population', 'city']]"
   ]
  },
  {
   "cell_type": "markdown",
   "id": "eae0942b-a129-4f6c-b53e-825accfdf0d5",
   "metadata": {
    "id": "eae0942b-a129-4f6c-b53e-825accfdf0d5"
   },
   "source": [
    "* Retirada dos valores duplicados. Não é necessário ter os dados repetidos no BD."
   ]
  },
  {
   "cell_type": "code",
   "execution_count": 32,
   "id": "59d229be-fdb3-4ba6-be6d-a79604884061",
   "metadata": {
    "id": "59d229be-fdb3-4ba6-be6d-a79604884061"
   },
   "outputs": [],
   "source": [
    "populacao2 = populacao.drop_duplicates(subset = 'city')"
   ]
  },
  {
   "cell_type": "markdown",
   "id": "b66ffe38-78e7-4c36-86e5-413bebebf5ac",
   "metadata": {
    "id": "b66ffe38-78e7-4c36-86e5-413bebebf5ac"
   },
   "source": [
    "* Recuperação do conteúdo da base cidade que foi imputada anteriormente no BD. Ela será utilizada para a captura da chave estrangeira id_cidade"
   ]
  },
  {
   "cell_type": "code",
   "execution_count": 33,
   "id": "d5cf04dd-88df-4577-925f-952a095b317b",
   "metadata": {
    "id": "d5cf04dd-88df-4577-925f-952a095b317b"
   },
   "outputs": [],
   "source": [
    "sql = \"SELECT * FROM cidade;\"\n",
    "cidade = sqlio.read_sql_query(sql, conn)"
   ]
  },
  {
   "cell_type": "code",
   "execution_count": 34,
   "id": "7142df4a-1fa1-40e0-93f6-3dbfa53a1ffa",
   "metadata": {
    "id": "7142df4a-1fa1-40e0-93f6-3dbfa53a1ffa",
    "outputId": "6eddb784-1b76-45e7-ebba-472e09557e72"
   },
   "outputs": [
    {
     "name": "stdout",
     "output_type": "stream",
     "text": [
      "   id_cidade        nome_cidade  cod_cidade_ibge\n",
      "0          1          Guarulhos          3518800\n",
      "1          2             Osasco          3534401\n",
      "2          3    Franco da Rocha          3516408\n",
      "3          4            Atibaia          3504107\n",
      "4          5  Bragança Paulista          3507605\n"
     ]
    }
   ],
   "source": [
    "print(cidade)"
   ]
  },
  {
   "cell_type": "markdown",
   "id": "08cf78f7-c899-4b0b-8f4f-a070df7f5ba5",
   "metadata": {
    "id": "08cf78f7-c899-4b0b-8f4f-a070df7f5ba5"
   },
   "source": [
    "* Cruzamento entre a base populacao2 e a base cidade para a captura da chave estrangeira id_cidade"
   ]
  },
  {
   "cell_type": "code",
   "execution_count": 35,
   "id": "1ab9b8aa-3299-4f44-810d-2eff724213a2",
   "metadata": {
    "id": "1ab9b8aa-3299-4f44-810d-2eff724213a2"
   },
   "outputs": [],
   "source": [
    "populacao3 = pd.merge(populacao2, cidade, right_on='nome_cidade', left_on='city', how='left')"
   ]
  },
  {
   "cell_type": "code",
   "execution_count": 36,
   "id": "7e9c9ccf-0c31-4f56-aae5-05e83aa25bad",
   "metadata": {
    "id": "7e9c9ccf-0c31-4f56-aae5-05e83aa25bad",
    "outputId": "e8e99724-f013-49eb-8f40-a1eb719c5682"
   },
   "outputs": [
    {
     "name": "stdout",
     "output_type": "stream",
     "text": [
      "   estimated_population_2019  estimated_population               city  \\\n",
      "0                  1379182.0             1392121.0          Guarulhos   \n",
      "1                   698418.0              699944.0             Osasco   \n",
      "2                   154489.0              156492.0    Franco da Rocha   \n",
      "3                   142761.0              144088.0            Atibaia   \n",
      "4                   168668.0              170533.0  Bragança Paulista   \n",
      "\n",
      "   id_cidade        nome_cidade  cod_cidade_ibge  \n",
      "0          1          Guarulhos          3518800  \n",
      "1          2             Osasco          3534401  \n",
      "2          3    Franco da Rocha          3516408  \n",
      "3          4            Atibaia          3504107  \n",
      "4          5  Bragança Paulista          3507605  \n"
     ]
    }
   ],
   "source": [
    "print(populacao3)"
   ]
  },
  {
   "cell_type": "markdown",
   "id": "858f90d3-fe3e-4715-926f-46ecc50a4d1b",
   "metadata": {
    "id": "858f90d3-fe3e-4715-926f-46ecc50a4d1b"
   },
   "source": [
    "* Criação de uma lista contendo os dados da estimated_population_2019"
   ]
  },
  {
   "cell_type": "code",
   "execution_count": 37,
   "id": "fff08ce8-b32a-45bf-a727-6bf30e3b8562",
   "metadata": {
    "id": "fff08ce8-b32a-45bf-a727-6bf30e3b8562"
   },
   "outputs": [],
   "source": [
    "estimated_population_2019 = populacao3['estimated_population_2019'].tolist()"
   ]
  },
  {
   "cell_type": "markdown",
   "id": "11750ba9-ecba-446f-b208-9c2d963e9e69",
   "metadata": {
    "id": "11750ba9-ecba-446f-b208-9c2d963e9e69"
   },
   "source": [
    "* Criação de uma lista contendo os dados da estimated_population"
   ]
  },
  {
   "cell_type": "code",
   "execution_count": 38,
   "id": "31990785-f6e2-4cb8-b055-b1e690c36963",
   "metadata": {
    "id": "31990785-f6e2-4cb8-b055-b1e690c36963"
   },
   "outputs": [],
   "source": [
    "estimated_population = populacao3['estimated_population'].tolist()"
   ]
  },
  {
   "cell_type": "markdown",
   "id": "9d9158ca-feeb-41b0-9255-a727785342af",
   "metadata": {
    "id": "9d9158ca-feeb-41b0-9255-a727785342af"
   },
   "source": [
    "* Criação de uma lista contendo os dados da id_cidade"
   ]
  },
  {
   "cell_type": "code",
   "execution_count": 39,
   "id": "9d71b5e6-b9b9-4abf-a65b-4fba87529dce",
   "metadata": {
    "id": "9d71b5e6-b9b9-4abf-a65b-4fba87529dce"
   },
   "outputs": [],
   "source": [
    "id_cidade = populacao3['id_cidade'].tolist()"
   ]
  },
  {
   "cell_type": "markdown",
   "id": "9442d48c-c547-4b6d-9735-95d423f204f0",
   "metadata": {
    "id": "9442d48c-c547-4b6d-9735-95d423f204f0"
   },
   "source": [
    "* Criação de uma lista de dicionários contendo os dados da coluna estimated_population_2019 / estimated_population / id_cidade e com a chave estimated_population_2019 / estimated_population / id_cidade"
   ]
  },
  {
   "cell_type": "markdown",
   "id": "0c258275-7be6-4271-bab6-308f23e1a7fc",
   "metadata": {
    "id": "0c258275-7be6-4271-bab6-308f23e1a7fc"
   },
   "source": [
    "Esta lista de dicionários é necessária para poder executar o comando executemany do pacote psycopg2"
   ]
  },
  {
   "cell_type": "code",
   "execution_count": 40,
   "id": "0a27b28f-3095-4493-809a-468b1d89c242",
   "metadata": {
    "id": "0a27b28f-3095-4493-809a-468b1d89c242"
   },
   "outputs": [],
   "source": [
    "populacao_dicionario = {}\n",
    "populacao_lista = []\n",
    "\n",
    "for i in range(0, len(id_cidade)):\n",
    "    \n",
    "    populacao_dicionario[i] = dict({'estimated_population_2019':estimated_population_2019[i],'estimated_population':estimated_population[i], 'id_cidade':id_cidade[i]})\n",
    "    \n",
    "    populacao_lista.append(populacao_dicionario[i])"
   ]
  },
  {
   "cell_type": "markdown",
   "id": "4e5ccb24-c26b-4d0f-9478-1b865f5fb5a6",
   "metadata": {
    "id": "4e5ccb24-c26b-4d0f-9478-1b865f5fb5a6"
   },
   "source": [
    "* Imputação dos dados na tabela do BD populacao"
   ]
  },
  {
   "cell_type": "code",
   "execution_count": 41,
   "id": "60d8e1c0-b697-4117-a166-5042efba4ce0",
   "metadata": {
    "id": "60d8e1c0-b697-4117-a166-5042efba4ce0"
   },
   "outputs": [],
   "source": [
    "cur.executemany(\"\"\"INSERT INTO populacao (pop_estimada_2019, pop_estimada, id_cidade) VALUES (%(estimated_population_2019)s, (%(estimated_population)s), (%(id_cidade)s));\"\"\", populacao_lista)\n",
    "    \n",
    "conn.commit()"
   ]
  },
  {
   "cell_type": "markdown",
   "id": "bb823102-3a30-426e-8358-5a78c28a4eaa",
   "metadata": {
    "id": "bb823102-3a30-426e-8358-5a78c28a4eaa"
   },
   "source": [
    "---\n",
    "***Imputando os dados da tabela / entidade casos no BD***\n",
    "\n",
    "---"
   ]
  },
  {
   "cell_type": "markdown",
   "id": "896d5e46-564b-449e-9445-716cbd4ae75a",
   "metadata": {
    "id": "896d5e46-564b-449e-9445-716cbd4ae75a"
   },
   "source": [
    "* Criação da tabela apenas com os dados necessários"
   ]
  },
  {
   "cell_type": "code",
   "execution_count": 42,
   "id": "403e96bb-ea1a-4cb9-bd5b-527294a9b2a6",
   "metadata": {
    "id": "403e96bb-ea1a-4cb9-bd5b-527294a9b2a6"
   },
   "outputs": [],
   "source": [
    "casos = covid_casos_filtro[['new_confirmed', 'city', 'last_available_date']]"
   ]
  },
  {
   "cell_type": "markdown",
   "id": "8544c724-44b0-44e2-b637-12a6b2896c0c",
   "metadata": {
    "id": "8544c724-44b0-44e2-b637-12a6b2896c0c"
   },
   "source": [
    "* Recuperação do conteúdo da base cidade que foi imputada anteriormente no BD. Ela será utilizada para a captura da chave estrangeira id_cidade"
   ]
  },
  {
   "cell_type": "code",
   "execution_count": 43,
   "id": "c6b064d1-04e7-4c6a-b3fd-53df8432a8df",
   "metadata": {
    "id": "c6b064d1-04e7-4c6a-b3fd-53df8432a8df"
   },
   "outputs": [],
   "source": [
    "sql_cidade = \"SELECT * FROM cidade;\"\n",
    "cidade = sqlio.read_sql_query(sql_cidade, conn)"
   ]
  },
  {
   "cell_type": "markdown",
   "id": "2719583f-a71e-4213-8a07-1d1a75c7e9d9",
   "metadata": {
    "id": "2719583f-a71e-4213-8a07-1d1a75c7e9d9"
   },
   "source": [
    "* Recuperação do conteúdo da base data_dado que foi imputada anteriormente no BD. Ela será utilizada para a captura da chave estrangeira id_data_dado"
   ]
  },
  {
   "cell_type": "code",
   "execution_count": 44,
   "id": "56cd34f2-5c35-4b1a-9303-55b59b5695a4",
   "metadata": {
    "id": "56cd34f2-5c35-4b1a-9303-55b59b5695a4"
   },
   "outputs": [],
   "source": [
    "sql_data_dado = \"SELECT * FROM data_dado;\"\n",
    "data_dado = sqlio.read_sql_query(sql_data_dado, conn)"
   ]
  },
  {
   "cell_type": "markdown",
   "id": "ecc37328-6942-419f-a557-c89ba4ca8c5c",
   "metadata": {
    "id": "ecc37328-6942-419f-a557-c89ba4ca8c5c"
   },
   "source": [
    "* Cruzamento entre a base casos e a base cidade para a captura da chave estrangeira id_cidade"
   ]
  },
  {
   "cell_type": "code",
   "execution_count": 45,
   "id": "f1c8c2d4-c9f3-4578-b466-70fd675c23c6",
   "metadata": {
    "id": "f1c8c2d4-c9f3-4578-b466-70fd675c23c6"
   },
   "outputs": [],
   "source": [
    "casos2 = pd.merge(casos, cidade, right_on='nome_cidade', left_on='city', how='left')"
   ]
  },
  {
   "cell_type": "code",
   "execution_count": 46,
   "id": "31eb2a53-59a5-4931-b944-5ba6bc878ac2",
   "metadata": {
    "id": "31eb2a53-59a5-4931-b944-5ba6bc878ac2",
    "outputId": "89cacacb-4dda-457f-95ee-168129dc4fc6"
   },
   "outputs": [
    {
     "data": {
      "text/html": [
       "<div>\n",
       "<style scoped>\n",
       "    .dataframe tbody tr th:only-of-type {\n",
       "        vertical-align: middle;\n",
       "    }\n",
       "\n",
       "    .dataframe tbody tr th {\n",
       "        vertical-align: top;\n",
       "    }\n",
       "\n",
       "    .dataframe thead th {\n",
       "        text-align: right;\n",
       "    }\n",
       "</style>\n",
       "<table border=\"1\" class=\"dataframe\">\n",
       "  <thead>\n",
       "    <tr style=\"text-align: right;\">\n",
       "      <th></th>\n",
       "      <th>new_confirmed</th>\n",
       "      <th>city</th>\n",
       "      <th>last_available_date</th>\n",
       "      <th>id_cidade</th>\n",
       "      <th>nome_cidade</th>\n",
       "      <th>cod_cidade_ibge</th>\n",
       "    </tr>\n",
       "  </thead>\n",
       "  <tbody>\n",
       "    <tr>\n",
       "      <th>0</th>\n",
       "      <td>1</td>\n",
       "      <td>Guarulhos</td>\n",
       "      <td>2020-03-17</td>\n",
       "      <td>1</td>\n",
       "      <td>Guarulhos</td>\n",
       "      <td>3518800</td>\n",
       "    </tr>\n",
       "    <tr>\n",
       "      <th>1</th>\n",
       "      <td>0</td>\n",
       "      <td>Guarulhos</td>\n",
       "      <td>2020-03-18</td>\n",
       "      <td>1</td>\n",
       "      <td>Guarulhos</td>\n",
       "      <td>3518800</td>\n",
       "    </tr>\n",
       "    <tr>\n",
       "      <th>2</th>\n",
       "      <td>1</td>\n",
       "      <td>Osasco</td>\n",
       "      <td>2020-03-18</td>\n",
       "      <td>2</td>\n",
       "      <td>Osasco</td>\n",
       "      <td>3534401</td>\n",
       "    </tr>\n",
       "    <tr>\n",
       "      <th>3</th>\n",
       "      <td>0</td>\n",
       "      <td>Guarulhos</td>\n",
       "      <td>2020-03-19</td>\n",
       "      <td>1</td>\n",
       "      <td>Guarulhos</td>\n",
       "      <td>3518800</td>\n",
       "    </tr>\n",
       "    <tr>\n",
       "      <th>4</th>\n",
       "      <td>0</td>\n",
       "      <td>Guarulhos</td>\n",
       "      <td>2020-03-20</td>\n",
       "      <td>1</td>\n",
       "      <td>Guarulhos</td>\n",
       "      <td>3518800</td>\n",
       "    </tr>\n",
       "  </tbody>\n",
       "</table>\n",
       "</div>"
      ],
      "text/plain": [
       "   new_confirmed       city last_available_date  id_cidade nome_cidade  \\\n",
       "0              1  Guarulhos          2020-03-17          1   Guarulhos   \n",
       "1              0  Guarulhos          2020-03-18          1   Guarulhos   \n",
       "2              1     Osasco          2020-03-18          2      Osasco   \n",
       "3              0  Guarulhos          2020-03-19          1   Guarulhos   \n",
       "4              0  Guarulhos          2020-03-20          1   Guarulhos   \n",
       "\n",
       "   cod_cidade_ibge  \n",
       "0          3518800  \n",
       "1          3518800  \n",
       "2          3534401  \n",
       "3          3518800  \n",
       "4          3518800  "
      ]
     },
     "execution_count": 46,
     "metadata": {},
     "output_type": "execute_result"
    }
   ],
   "source": [
    "casos2.head(5)"
   ]
  },
  {
   "cell_type": "markdown",
   "id": "d7896e09-c032-44d0-b94d-db827369c674",
   "metadata": {
    "id": "d7896e09-c032-44d0-b94d-db827369c674"
   },
   "source": [
    "* Tratamento do campo de data para padronizar as duas chaves para o segundo cruzamento"
   ]
  },
  {
   "cell_type": "code",
   "execution_count": 47,
   "id": "2a1e4582-b073-4303-98a8-eac24da6871d",
   "metadata": {
    "id": "2a1e4582-b073-4303-98a8-eac24da6871d"
   },
   "outputs": [],
   "source": [
    "casos2.last_available_date = pd.to_datetime(casos2.last_available_date)"
   ]
  },
  {
   "cell_type": "code",
   "execution_count": 48,
   "id": "0fc0553b-26e0-4429-92ab-6f78eafa43dd",
   "metadata": {
    "id": "0fc0553b-26e0-4429-92ab-6f78eafa43dd",
    "outputId": "fa8e1b24-2e13-4bda-f5ea-32ff888208c7"
   },
   "outputs": [
    {
     "data": {
      "text/plain": [
       "Timestamp('2020-03-17 00:00:00')"
      ]
     },
     "execution_count": 48,
     "metadata": {},
     "output_type": "execute_result"
    }
   ],
   "source": [
    "casos2.last_available_date[0]"
   ]
  },
  {
   "cell_type": "code",
   "execution_count": 49,
   "id": "5331948e-91de-4770-a618-ae0dafe0953c",
   "metadata": {
    "id": "5331948e-91de-4770-a618-ae0dafe0953c"
   },
   "outputs": [],
   "source": [
    "data_dado.data_dado = pd.to_datetime(data_dado.data_dado)"
   ]
  },
  {
   "cell_type": "code",
   "execution_count": 50,
   "id": "3f46f3f1-ea10-4928-aa2d-03150ffc58b9",
   "metadata": {
    "id": "3f46f3f1-ea10-4928-aa2d-03150ffc58b9",
    "outputId": "756273dc-d252-40ca-99c0-1f307512835e"
   },
   "outputs": [
    {
     "data": {
      "text/plain": [
       "Timestamp('2020-03-17 00:00:00')"
      ]
     },
     "execution_count": 50,
     "metadata": {},
     "output_type": "execute_result"
    }
   ],
   "source": [
    "data_dado.data_dado[0]"
   ]
  },
  {
   "cell_type": "markdown",
   "id": "9418fd32-236f-43ca-9723-da95342ead3b",
   "metadata": {
    "id": "9418fd32-236f-43ca-9723-da95342ead3b"
   },
   "source": [
    "* Cruzamento entre a base casos2 e a base data_dado para a captura da chave estrangeira id_data_dado"
   ]
  },
  {
   "cell_type": "code",
   "execution_count": 51,
   "id": "3ad07494-72a0-4cc4-b80a-77cd68c3cc63",
   "metadata": {
    "id": "3ad07494-72a0-4cc4-b80a-77cd68c3cc63"
   },
   "outputs": [],
   "source": [
    "casos3 = pd.merge(casos2, data_dado, right_on='data_dado', left_on='last_available_date', how='left')"
   ]
  },
  {
   "cell_type": "code",
   "execution_count": 52,
   "id": "b9138a23-9592-43ec-a310-b394702caaf2",
   "metadata": {
    "id": "b9138a23-9592-43ec-a310-b394702caaf2",
    "outputId": "72fce72a-2551-4a49-8c30-478e771e575f"
   },
   "outputs": [
    {
     "data": {
      "text/html": [
       "<div>\n",
       "<style scoped>\n",
       "    .dataframe tbody tr th:only-of-type {\n",
       "        vertical-align: middle;\n",
       "    }\n",
       "\n",
       "    .dataframe tbody tr th {\n",
       "        vertical-align: top;\n",
       "    }\n",
       "\n",
       "    .dataframe thead th {\n",
       "        text-align: right;\n",
       "    }\n",
       "</style>\n",
       "<table border=\"1\" class=\"dataframe\">\n",
       "  <thead>\n",
       "    <tr style=\"text-align: right;\">\n",
       "      <th></th>\n",
       "      <th>new_confirmed</th>\n",
       "      <th>city</th>\n",
       "      <th>last_available_date</th>\n",
       "      <th>id_cidade</th>\n",
       "      <th>nome_cidade</th>\n",
       "      <th>cod_cidade_ibge</th>\n",
       "      <th>id_data_dado</th>\n",
       "      <th>data_dado</th>\n",
       "      <th>id_sem_epid</th>\n",
       "    </tr>\n",
       "  </thead>\n",
       "  <tbody>\n",
       "    <tr>\n",
       "      <th>0</th>\n",
       "      <td>1</td>\n",
       "      <td>Guarulhos</td>\n",
       "      <td>2020-03-17</td>\n",
       "      <td>1</td>\n",
       "      <td>Guarulhos</td>\n",
       "      <td>3518800</td>\n",
       "      <td>1</td>\n",
       "      <td>2020-03-17</td>\n",
       "      <td>1</td>\n",
       "    </tr>\n",
       "    <tr>\n",
       "      <th>1</th>\n",
       "      <td>0</td>\n",
       "      <td>Guarulhos</td>\n",
       "      <td>2020-03-18</td>\n",
       "      <td>1</td>\n",
       "      <td>Guarulhos</td>\n",
       "      <td>3518800</td>\n",
       "      <td>2</td>\n",
       "      <td>2020-03-18</td>\n",
       "      <td>1</td>\n",
       "    </tr>\n",
       "    <tr>\n",
       "      <th>2</th>\n",
       "      <td>1</td>\n",
       "      <td>Osasco</td>\n",
       "      <td>2020-03-18</td>\n",
       "      <td>2</td>\n",
       "      <td>Osasco</td>\n",
       "      <td>3534401</td>\n",
       "      <td>2</td>\n",
       "      <td>2020-03-18</td>\n",
       "      <td>1</td>\n",
       "    </tr>\n",
       "    <tr>\n",
       "      <th>3</th>\n",
       "      <td>0</td>\n",
       "      <td>Guarulhos</td>\n",
       "      <td>2020-03-19</td>\n",
       "      <td>1</td>\n",
       "      <td>Guarulhos</td>\n",
       "      <td>3518800</td>\n",
       "      <td>3</td>\n",
       "      <td>2020-03-19</td>\n",
       "      <td>1</td>\n",
       "    </tr>\n",
       "    <tr>\n",
       "      <th>4</th>\n",
       "      <td>0</td>\n",
       "      <td>Guarulhos</td>\n",
       "      <td>2020-03-20</td>\n",
       "      <td>1</td>\n",
       "      <td>Guarulhos</td>\n",
       "      <td>3518800</td>\n",
       "      <td>4</td>\n",
       "      <td>2020-03-20</td>\n",
       "      <td>1</td>\n",
       "    </tr>\n",
       "  </tbody>\n",
       "</table>\n",
       "</div>"
      ],
      "text/plain": [
       "   new_confirmed       city last_available_date  id_cidade nome_cidade  \\\n",
       "0              1  Guarulhos          2020-03-17          1   Guarulhos   \n",
       "1              0  Guarulhos          2020-03-18          1   Guarulhos   \n",
       "2              1     Osasco          2020-03-18          2      Osasco   \n",
       "3              0  Guarulhos          2020-03-19          1   Guarulhos   \n",
       "4              0  Guarulhos          2020-03-20          1   Guarulhos   \n",
       "\n",
       "   cod_cidade_ibge  id_data_dado  data_dado  id_sem_epid  \n",
       "0          3518800             1 2020-03-17            1  \n",
       "1          3518800             2 2020-03-18            1  \n",
       "2          3534401             2 2020-03-18            1  \n",
       "3          3518800             3 2020-03-19            1  \n",
       "4          3518800             4 2020-03-20            1  "
      ]
     },
     "execution_count": 52,
     "metadata": {},
     "output_type": "execute_result"
    }
   ],
   "source": [
    "casos3.head(5)"
   ]
  },
  {
   "cell_type": "markdown",
   "id": "ccece514-96e3-47c0-8f3d-d12293dd6799",
   "metadata": {
    "id": "ccece514-96e3-47c0-8f3d-d12293dd6799"
   },
   "source": [
    "* Criação de uma lista contendo os dados da new_confirmed"
   ]
  },
  {
   "cell_type": "code",
   "execution_count": 53,
   "id": "5d7bdacb-da7e-49ed-974a-a8931a383e9b",
   "metadata": {
    "id": "5d7bdacb-da7e-49ed-974a-a8931a383e9b"
   },
   "outputs": [],
   "source": [
    "new_confirmed = casos3['new_confirmed'].tolist()"
   ]
  },
  {
   "cell_type": "markdown",
   "id": "0a604ff8-7bd8-4e59-92aa-e100beb7f58c",
   "metadata": {
    "id": "0a604ff8-7bd8-4e59-92aa-e100beb7f58c"
   },
   "source": [
    "* Criação de uma lista contendo os dados da id_cidade"
   ]
  },
  {
   "cell_type": "code",
   "execution_count": 56,
   "id": "e1ae7edc-34d7-49fe-9190-bf79f7c13327",
   "metadata": {
    "id": "e1ae7edc-34d7-49fe-9190-bf79f7c13327"
   },
   "outputs": [],
   "source": [
    "id_cidade = casos3['id_cidade'].tolist()"
   ]
  },
  {
   "cell_type": "markdown",
   "id": "ffa551d7-6a6f-4ada-aaea-893b1d267c71",
   "metadata": {
    "id": "ffa551d7-6a6f-4ada-aaea-893b1d267c71"
   },
   "source": [
    "* Criação de uma lista contendo os dados da id_data_dado"
   ]
  },
  {
   "cell_type": "code",
   "execution_count": 54,
   "id": "a1bc6634-f570-4717-a10b-69c0397441b5",
   "metadata": {
    "id": "a1bc6634-f570-4717-a10b-69c0397441b5"
   },
   "outputs": [],
   "source": [
    "id_data_dado = casos3['id_data_dado'].tolist()"
   ]
  },
  {
   "cell_type": "markdown",
   "id": "eb9a9d3f-0127-4ad8-a348-efde6543339f",
   "metadata": {
    "id": "eb9a9d3f-0127-4ad8-a348-efde6543339f"
   },
   "source": [
    "* Criação de uma lista de dicionários contendo os dados da coluna new_confirmed / id_cidade / id_data_dado e com a chave new_confirmed / id_cidade / id_data_dado"
   ]
  },
  {
   "cell_type": "markdown",
   "id": "5b8bc8f5-412e-418c-98cd-1d8f9426c1b4",
   "metadata": {
    "id": "5b8bc8f5-412e-418c-98cd-1d8f9426c1b4"
   },
   "source": [
    "Esta lista de dicionários é necessária para poder executar o comando executemany do pacote psycopg2"
   ]
  },
  {
   "cell_type": "code",
   "execution_count": 57,
   "id": "808889ca-ed3c-45de-a7e2-082743ce23ec",
   "metadata": {
    "id": "808889ca-ed3c-45de-a7e2-082743ce23ec"
   },
   "outputs": [],
   "source": [
    "casos_dicionario = {}\n",
    "casos_lista = []\n",
    "\n",
    "for i in range(0, len(new_confirmed)):\n",
    "    \n",
    "    casos_dicionario[i] = dict({'new_confirmed':new_confirmed[i],'id_cidade':id_cidade[i], 'id_data_dado':id_data_dado[i]})\n",
    "    \n",
    "    casos_lista.append(casos_dicionario[i])"
   ]
  },
  {
   "cell_type": "markdown",
   "id": "b9f79432-0b4e-4e2d-abc9-3d56998ed70d",
   "metadata": {
    "id": "b9f79432-0b4e-4e2d-abc9-3d56998ed70d"
   },
   "source": [
    "* Imputação dos dados na tabela do BD populacao"
   ]
  },
  {
   "cell_type": "code",
   "execution_count": 58,
   "id": "bf87cd91-fe44-43ee-bfb3-e6f846f13c77",
   "metadata": {
    "id": "bf87cd91-fe44-43ee-bfb3-e6f846f13c77"
   },
   "outputs": [],
   "source": [
    "cur.executemany(\"\"\"INSERT INTO casos (novos_casos, id_cidade, id_data_dado) VALUES (%(new_confirmed)s, (%(id_cidade)s), (%(id_data_dado)s));\"\"\", casos_lista)\n",
    "    \n",
    "conn.commit()"
   ]
  },
  {
   "cell_type": "markdown",
   "id": "bb3a1cb1-c4a7-4c0b-a77d-91a5b1ada271",
   "metadata": {
    "id": "bb3a1cb1-c4a7-4c0b-a77d-91a5b1ada271"
   },
   "source": [
    "---\n",
    "***Imputando os dados da tabela / entidade óbitos no BD***\n",
    "\n",
    "---"
   ]
  },
  {
   "cell_type": "markdown",
   "id": "218daf58-121e-4604-b693-9305e6570f87",
   "metadata": {
    "id": "218daf58-121e-4604-b693-9305e6570f87"
   },
   "source": [
    "* Criação da tabela apenas com os dados necessários"
   ]
  },
  {
   "cell_type": "code",
   "execution_count": 59,
   "id": "55615a61-4677-466f-8423-8938a5e03f8e",
   "metadata": {
    "id": "55615a61-4677-466f-8423-8938a5e03f8e"
   },
   "outputs": [],
   "source": [
    "obitos = covid_casos_filtro[['new_deaths', 'city', 'last_available_date']]"
   ]
  },
  {
   "cell_type": "markdown",
   "id": "261f7a6e-66c6-4272-a75c-0a36ca17ffb4",
   "metadata": {
    "id": "261f7a6e-66c6-4272-a75c-0a36ca17ffb4"
   },
   "source": [
    "* Recuperação do conteúdo da base cidade que foi imputada anteriormente no BD. Ela será utilizada para a captura da chave estrangeira id_cidade"
   ]
  },
  {
   "cell_type": "code",
   "execution_count": 60,
   "id": "ea762fe2-c248-44ba-824b-f76ce539703d",
   "metadata": {
    "id": "ea762fe2-c248-44ba-824b-f76ce539703d"
   },
   "outputs": [],
   "source": [
    "sql_cidade = \"SELECT * FROM cidade;\"\n",
    "cidade = sqlio.read_sql_query(sql_cidade, conn)"
   ]
  },
  {
   "cell_type": "markdown",
   "id": "fc65ee88-28d4-4422-8e44-31112a78f509",
   "metadata": {
    "id": "fc65ee88-28d4-4422-8e44-31112a78f509"
   },
   "source": [
    "* Recuperação do conteúdo da base data_dado que foi imputada anteriormente no BD. Ela será utilizada para a captura da chave estrangeira id_data_dado"
   ]
  },
  {
   "cell_type": "code",
   "execution_count": 61,
   "id": "6392baf8-78d7-41cc-9a33-0352807c3275",
   "metadata": {
    "id": "6392baf8-78d7-41cc-9a33-0352807c3275"
   },
   "outputs": [],
   "source": [
    "sql_data_dado = \"SELECT * FROM data_dado;\"\n",
    "data_dado = sqlio.read_sql_query(sql_data_dado, conn)"
   ]
  },
  {
   "cell_type": "markdown",
   "id": "2c679b55-b509-40f1-be4f-2cbea7fa63c7",
   "metadata": {
    "id": "2c679b55-b509-40f1-be4f-2cbea7fa63c7"
   },
   "source": [
    "* Cruzamento entre a base obitos e a base cidade para a captura da chave estrangeira id_cidade"
   ]
  },
  {
   "cell_type": "code",
   "execution_count": 62,
   "id": "2d636057-a019-4a4b-9022-b1d67e6a88f8",
   "metadata": {
    "id": "2d636057-a019-4a4b-9022-b1d67e6a88f8"
   },
   "outputs": [],
   "source": [
    "obitos2 = pd.merge(obitos, cidade, right_on='nome_cidade', left_on='city', how='left')"
   ]
  },
  {
   "cell_type": "markdown",
   "id": "a183326e-0f9d-49cf-889e-bf4b9362d6e5",
   "metadata": {
    "id": "a183326e-0f9d-49cf-889e-bf4b9362d6e5"
   },
   "source": [
    "* Tratamento do campo de data para padronizar as duas chaves para o segundo cruzamento"
   ]
  },
  {
   "cell_type": "code",
   "execution_count": 63,
   "id": "fcfa8598-ac25-4f60-adb7-93617c32b6fa",
   "metadata": {
    "id": "fcfa8598-ac25-4f60-adb7-93617c32b6fa"
   },
   "outputs": [],
   "source": [
    "obitos2.last_available_date = pd.to_datetime(obitos2.last_available_date)"
   ]
  },
  {
   "cell_type": "code",
   "execution_count": 64,
   "id": "89d1ee5e-a166-498e-ba9b-99ca72e45404",
   "metadata": {
    "id": "89d1ee5e-a166-498e-ba9b-99ca72e45404",
    "outputId": "ac8f51d3-68a6-4ea0-b1d1-234e00708ff9"
   },
   "outputs": [
    {
     "data": {
      "text/plain": [
       "Timestamp('2020-03-17 00:00:00')"
      ]
     },
     "execution_count": 64,
     "metadata": {},
     "output_type": "execute_result"
    }
   ],
   "source": [
    "obitos2.last_available_date[0]"
   ]
  },
  {
   "cell_type": "code",
   "execution_count": 65,
   "id": "7fe7e259-3105-4fa5-a2a9-c225f72fa973",
   "metadata": {
    "id": "7fe7e259-3105-4fa5-a2a9-c225f72fa973"
   },
   "outputs": [],
   "source": [
    "data_dado.data_dado = pd.to_datetime(data_dado.data_dado)"
   ]
  },
  {
   "cell_type": "code",
   "execution_count": 66,
   "id": "02449dd2-0504-488d-9e56-5e8363b9404b",
   "metadata": {
    "id": "02449dd2-0504-488d-9e56-5e8363b9404b",
    "outputId": "d4e05701-66d7-4fbd-cab8-4170c8d9af22"
   },
   "outputs": [
    {
     "data": {
      "text/plain": [
       "Timestamp('2020-03-17 00:00:00')"
      ]
     },
     "execution_count": 66,
     "metadata": {},
     "output_type": "execute_result"
    }
   ],
   "source": [
    "data_dado.data_dado[0]"
   ]
  },
  {
   "cell_type": "markdown",
   "id": "fa30a61a-1cf2-450b-8356-862e4e62c3a0",
   "metadata": {
    "id": "fa30a61a-1cf2-450b-8356-862e4e62c3a0"
   },
   "source": [
    "* Cruzamento entre a base obitos2 e a base data_dado para a captura da chave estrangeira id_data_dado"
   ]
  },
  {
   "cell_type": "code",
   "execution_count": 67,
   "id": "4d604395-93d3-4c0b-a3de-fc63cdd80627",
   "metadata": {
    "id": "4d604395-93d3-4c0b-a3de-fc63cdd80627"
   },
   "outputs": [],
   "source": [
    "obitos3 = pd.merge(obitos2, data_dado, right_on='data_dado', left_on='last_available_date', how='left')"
   ]
  },
  {
   "cell_type": "code",
   "execution_count": 68,
   "id": "5c4fde04-62fc-4499-80c4-57623cd6593a",
   "metadata": {
    "id": "5c4fde04-62fc-4499-80c4-57623cd6593a",
    "outputId": "24df1662-4c52-4663-e581-63951f5867cc"
   },
   "outputs": [
    {
     "data": {
      "text/html": [
       "<div>\n",
       "<style scoped>\n",
       "    .dataframe tbody tr th:only-of-type {\n",
       "        vertical-align: middle;\n",
       "    }\n",
       "\n",
       "    .dataframe tbody tr th {\n",
       "        vertical-align: top;\n",
       "    }\n",
       "\n",
       "    .dataframe thead th {\n",
       "        text-align: right;\n",
       "    }\n",
       "</style>\n",
       "<table border=\"1\" class=\"dataframe\">\n",
       "  <thead>\n",
       "    <tr style=\"text-align: right;\">\n",
       "      <th></th>\n",
       "      <th>new_deaths</th>\n",
       "      <th>city</th>\n",
       "      <th>last_available_date</th>\n",
       "      <th>id_cidade</th>\n",
       "      <th>nome_cidade</th>\n",
       "      <th>cod_cidade_ibge</th>\n",
       "      <th>id_data_dado</th>\n",
       "      <th>data_dado</th>\n",
       "      <th>id_sem_epid</th>\n",
       "    </tr>\n",
       "  </thead>\n",
       "  <tbody>\n",
       "    <tr>\n",
       "      <th>0</th>\n",
       "      <td>0</td>\n",
       "      <td>Guarulhos</td>\n",
       "      <td>2020-03-17</td>\n",
       "      <td>1</td>\n",
       "      <td>Guarulhos</td>\n",
       "      <td>3518800</td>\n",
       "      <td>1</td>\n",
       "      <td>2020-03-17</td>\n",
       "      <td>1</td>\n",
       "    </tr>\n",
       "    <tr>\n",
       "      <th>1</th>\n",
       "      <td>0</td>\n",
       "      <td>Guarulhos</td>\n",
       "      <td>2020-03-18</td>\n",
       "      <td>1</td>\n",
       "      <td>Guarulhos</td>\n",
       "      <td>3518800</td>\n",
       "      <td>2</td>\n",
       "      <td>2020-03-18</td>\n",
       "      <td>1</td>\n",
       "    </tr>\n",
       "    <tr>\n",
       "      <th>2</th>\n",
       "      <td>0</td>\n",
       "      <td>Osasco</td>\n",
       "      <td>2020-03-18</td>\n",
       "      <td>2</td>\n",
       "      <td>Osasco</td>\n",
       "      <td>3534401</td>\n",
       "      <td>2</td>\n",
       "      <td>2020-03-18</td>\n",
       "      <td>1</td>\n",
       "    </tr>\n",
       "    <tr>\n",
       "      <th>3</th>\n",
       "      <td>0</td>\n",
       "      <td>Guarulhos</td>\n",
       "      <td>2020-03-19</td>\n",
       "      <td>1</td>\n",
       "      <td>Guarulhos</td>\n",
       "      <td>3518800</td>\n",
       "      <td>3</td>\n",
       "      <td>2020-03-19</td>\n",
       "      <td>1</td>\n",
       "    </tr>\n",
       "    <tr>\n",
       "      <th>4</th>\n",
       "      <td>0</td>\n",
       "      <td>Guarulhos</td>\n",
       "      <td>2020-03-20</td>\n",
       "      <td>1</td>\n",
       "      <td>Guarulhos</td>\n",
       "      <td>3518800</td>\n",
       "      <td>4</td>\n",
       "      <td>2020-03-20</td>\n",
       "      <td>1</td>\n",
       "    </tr>\n",
       "  </tbody>\n",
       "</table>\n",
       "</div>"
      ],
      "text/plain": [
       "   new_deaths       city last_available_date  id_cidade nome_cidade  \\\n",
       "0           0  Guarulhos          2020-03-17          1   Guarulhos   \n",
       "1           0  Guarulhos          2020-03-18          1   Guarulhos   \n",
       "2           0     Osasco          2020-03-18          2      Osasco   \n",
       "3           0  Guarulhos          2020-03-19          1   Guarulhos   \n",
       "4           0  Guarulhos          2020-03-20          1   Guarulhos   \n",
       "\n",
       "   cod_cidade_ibge  id_data_dado  data_dado  id_sem_epid  \n",
       "0          3518800             1 2020-03-17            1  \n",
       "1          3518800             2 2020-03-18            1  \n",
       "2          3534401             2 2020-03-18            1  \n",
       "3          3518800             3 2020-03-19            1  \n",
       "4          3518800             4 2020-03-20            1  "
      ]
     },
     "execution_count": 68,
     "metadata": {},
     "output_type": "execute_result"
    }
   ],
   "source": [
    "obitos3.head(5)"
   ]
  },
  {
   "cell_type": "markdown",
   "id": "8541ee23-1ba7-4bb6-b4fa-c76b2d3623fe",
   "metadata": {
    "id": "8541ee23-1ba7-4bb6-b4fa-c76b2d3623fe"
   },
   "source": [
    "* Criação de uma lista contendo os dados da new_deaths"
   ]
  },
  {
   "cell_type": "code",
   "execution_count": 69,
   "id": "f89157c8-9d66-4da1-9dc9-508dda9c9bfd",
   "metadata": {
    "id": "f89157c8-9d66-4da1-9dc9-508dda9c9bfd"
   },
   "outputs": [],
   "source": [
    "new_deaths = obitos3['new_deaths'].tolist()"
   ]
  },
  {
   "cell_type": "markdown",
   "id": "d3add3fa-987e-47d3-912e-8d2a35913943",
   "metadata": {
    "id": "d3add3fa-987e-47d3-912e-8d2a35913943"
   },
   "source": [
    "* Criação de uma lista contendo os dados da id_cidade"
   ]
  },
  {
   "cell_type": "code",
   "execution_count": 70,
   "id": "ec3a1c65-ee74-4d97-9807-df7e71b091b7",
   "metadata": {
    "id": "ec3a1c65-ee74-4d97-9807-df7e71b091b7"
   },
   "outputs": [],
   "source": [
    "id_cidade = obitos3['id_cidade'].tolist()"
   ]
  },
  {
   "cell_type": "markdown",
   "id": "2910eea3-b1ec-42ad-bc31-815906cd926a",
   "metadata": {
    "id": "2910eea3-b1ec-42ad-bc31-815906cd926a"
   },
   "source": [
    "* Criação de uma lista contendo os dados da id_data_dado"
   ]
  },
  {
   "cell_type": "code",
   "execution_count": 71,
   "id": "51014e0f-17e0-4cbe-9f45-e636cdb9e619",
   "metadata": {
    "id": "51014e0f-17e0-4cbe-9f45-e636cdb9e619"
   },
   "outputs": [],
   "source": [
    "id_data_dado = obitos3['id_data_dado'].tolist()"
   ]
  },
  {
   "cell_type": "markdown",
   "id": "bec10ec5-5c9d-424c-97bd-1d56f3f1bafb",
   "metadata": {
    "id": "bec10ec5-5c9d-424c-97bd-1d56f3f1bafb"
   },
   "source": [
    "* Criação de uma lista de dicionários contendo os dados da coluna new_deaths / id_cidade / id_data_dado e com a chave new_deaths / id_cidade / id_data_dado"
   ]
  },
  {
   "cell_type": "markdown",
   "id": "48f22774-5657-41d4-893f-ca0ebe6f9ae7",
   "metadata": {
    "id": "48f22774-5657-41d4-893f-ca0ebe6f9ae7"
   },
   "source": [
    "Esta lista de dicionários é necessária para poder executar o comando executemany do pacote psycopg2"
   ]
  },
  {
   "cell_type": "code",
   "execution_count": 72,
   "id": "3c700709-ae4b-42c0-bc29-289ea1795163",
   "metadata": {
    "id": "3c700709-ae4b-42c0-bc29-289ea1795163"
   },
   "outputs": [],
   "source": [
    "obitos_dicionario = {}\n",
    "obitos_lista = []\n",
    "\n",
    "for i in range(0, len(new_deaths)):\n",
    "    \n",
    "    obitos_dicionario[i] = dict({'new_deaths':new_deaths[i],'id_cidade':id_cidade[i], 'id_data_dado':id_data_dado[i]})\n",
    "    \n",
    "    obitos_lista.append(obitos_dicionario[i])"
   ]
  },
  {
   "cell_type": "markdown",
   "id": "b81d783f-9c32-4ed9-94f6-c27f9022ddf5",
   "metadata": {
    "id": "b81d783f-9c32-4ed9-94f6-c27f9022ddf5"
   },
   "source": [
    "* Imputação dos dados na tabela do BD obitos"
   ]
  },
  {
   "cell_type": "code",
   "execution_count": 73,
   "id": "f9b74a8a-c8ee-4219-bb9b-bf4a6caf2ca8",
   "metadata": {
    "id": "f9b74a8a-c8ee-4219-bb9b-bf4a6caf2ca8"
   },
   "outputs": [],
   "source": [
    "cur.executemany(\"\"\"INSERT INTO obitos (novos_obitos, id_cidade, id_data_dado) VALUES (%(new_deaths)s, (%(id_cidade)s), (%(id_data_dado)s));\"\"\", obitos_lista)\n",
    "    \n",
    "conn.commit()"
   ]
  }
 ],
 "metadata": {
  "colab": {
   "name": "trabalho_lcpd.ipynb",
   "provenance": []
  },
  "kernelspec": {
   "display_name": "Python 3",
   "language": "python",
   "name": "python3"
  },
  "language_info": {
   "codemirror_mode": {
    "name": "ipython",
    "version": 3
   },
   "file_extension": ".py",
   "mimetype": "text/x-python",
   "name": "python",
   "nbconvert_exporter": "python",
   "pygments_lexer": "ipython3",
   "version": "3.8.8"
  }
 },
 "nbformat": 4,
 "nbformat_minor": 5
}
